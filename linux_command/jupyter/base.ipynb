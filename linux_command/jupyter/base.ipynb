{
 "cells": [
  {
   "cell_type": "markdown",
   "metadata": {},
   "source": [
    "# Linux Command Example\n",
    "\n",
    "### 推薦觀看：\n",
    "#### [鳥哥的Linux私房菜]\n",
    "#### [結構筆記]\n",
    "#### 目錄結構圖片\n",
    "![N|Solid](http://linux.vbird.org/linux_basic/0210filepermission//centos7_0210filepermission_4.jpg)\n",
    "\n",
    "- [FHS 3.0 (2015 年版)的標準文件]\n",
    "\n",
    "[鳥哥的Linux私房菜]: <http://linux.vbird.org/>\n",
    "[結構筆記]: <https://www.evernote.com/l/Aa6tUqN4FUhNdaS7Zx3XnHd7QUOIPsJdvts>\n",
    "[FHS 3.0 (2015 年版)的標準文件]:<http://refspecs.linuxfoundation.org/FHS_3.0/fhs-3.0.pdf>"
   ]
  },
  {
   "cell_type": "markdown",
   "metadata": {},
   "source": [
    "## man 查看指令說明"
   ]
  },
  {
   "cell_type": "code",
   "execution_count": null,
   "metadata": {
    "collapsed": false
   },
   "outputs": [],
   "source": [
    "man pwd"
   ]
  },
  {
   "cell_type": "markdown",
   "metadata": {},
   "source": [
    "## pwd 查看目前所在目錄"
   ]
  },
  {
   "cell_type": "code",
   "execution_count": 1,
   "metadata": {
    "collapsed": false,
    "scrolled": true
   },
   "outputs": [
    {
     "name": "stdout",
     "output_type": "stream",
     "text": [
      "/Users/pellok/github/pellok/linux_command/jupyter\n"
     ]
    }
   ],
   "source": [
    "pwd"
   ]
  },
  {
   "cell_type": "markdown",
   "metadata": {},
   "source": [
    "## cd 切換目錄指令\n",
    "- ./ 代表當前目錄\n",
    "- ../ 上層目錄"
   ]
  },
  {
   "cell_type": "code",
   "execution_count": null,
   "metadata": {
    "collapsed": false
   },
   "outputs": [],
   "source": [
    "man cd"
   ]
  },
  {
   "cell_type": "code",
   "execution_count": 3,
   "metadata": {
    "collapsed": false
   },
   "outputs": [
    {
     "name": "stdout",
     "output_type": "stream",
     "text": [
      "total 2\n",
      "dr-xr-xr-x   2 root  wheel     1  7  6 13:49 .\n",
      "drwxr-xr-x  33 root  wheel  1190  5 25 04:03 ..\n"
     ]
    }
   ],
   "source": [
    "cd ../"
   ]
  },
  {
   "cell_type": "markdown",
   "metadata": {},
   "source": [
    "## 單打 cd 會回到家目錄"
   ]
  },
  {
   "cell_type": "code",
   "execution_count": 4,
   "metadata": {
    "collapsed": false
   },
   "outputs": [
    {
     "name": "stdout",
     "output_type": "stream",
     "text": [
      "/Users/pellok\n"
     ]
    }
   ],
   "source": [
    "cd\n",
    "pwd"
   ]
  },
  {
   "cell_type": "markdown",
   "metadata": {},
   "source": [
    "## mkdir 創建目錄\n",
    "- -p 創建多層級目錄"
   ]
  },
  {
   "cell_type": "code",
   "execution_count": 14,
   "metadata": {
    "collapsed": false,
    "scrolled": true
   },
   "outputs": [
    {
     "name": "stdout",
     "output_type": "stream",
     "text": [
      "total 32\n",
      "drwxr-xr-x  5 pellok  staff    170  7 19 13:56 .\n",
      "drwxr-xr-x  4 pellok  staff    136  7 19 12:01 ..\n",
      "drwxr-xr-x  3 pellok  staff    102  7 19 12:10 .ipynb_checkpoints\n",
      "-rw-r--r--  1 pellok  staff  15633  7 19 13:55 base.ipynb\n",
      "drwxr-xr-x  2 pellok  staff     68  7 19 13:56 linux_command\n"
     ]
    }
   ],
   "source": [
    "cd //Users/pellok/github/pellok/linux_command/jupyter\n",
    "mkdir linux_command\n",
    "ls -al"
   ]
  },
  {
   "cell_type": "code",
   "execution_count": 17,
   "metadata": {
    "collapsed": false
   },
   "outputs": [
    {
     "name": "stdout",
     "output_type": "stream",
     "text": [
      "total 16\n",
      "drwxr-xr-x  5 pellok  staff   170  7 19 13:59 .\n",
      "drwxr-xr-x  4 pellok  staff   136  7 19 12:01 ..\n",
      "drwxr-xr-x  3 pellok  staff   102  7 19 12:10 .ipynb_checkpoints\n",
      "-rw-r--r--  1 pellok  staff  5147  7 19 13:59 base.ipynb\n",
      "drwxr-xr-x  3 pellok  staff   102  7 19 13:59 linux_command\n"
     ]
    }
   ],
   "source": [
    "cd //Users/pellok/github/pellok/linux_command/jupyter\n",
    "mkdir -p linux_command/1/2/3\n",
    "ls -al"
   ]
  },
  {
   "cell_type": "code",
   "execution_count": 18,
   "metadata": {
    "collapsed": false
   },
   "outputs": [
    {
     "name": "stdout",
     "output_type": "stream",
     "text": [
      "total 0\n",
      "drwxr-xr-x  3 pellok  staff  102  7 19 13:59 .\n",
      "drwxr-xr-x  5 pellok  staff  170  7 19 14:00 ..\n",
      "drwxr-xr-x  3 pellok  staff  102  7 19 13:59 1\n"
     ]
    }
   ],
   "source": [
    "cd linux_command\n",
    "ls -al"
   ]
  },
  {
   "cell_type": "code",
   "execution_count": 19,
   "metadata": {
    "collapsed": false
   },
   "outputs": [
    {
     "name": "stdout",
     "output_type": "stream",
     "text": [
      "total 0\n",
      "drwxr-xr-x  3 pellok  staff  102  7 19 13:59 .\n",
      "drwxr-xr-x  3 pellok  staff  102  7 19 13:59 ..\n",
      "drwxr-xr-x  3 pellok  staff  102  7 19 13:59 2\n"
     ]
    }
   ],
   "source": [
    "cd 1\n",
    "ls -al"
   ]
  },
  {
   "cell_type": "markdown",
   "metadata": {},
   "source": [
    "## rmdir 刪除空資料夾\n",
    "- -p 刪除多層空目錄"
   ]
  },
  {
   "cell_type": "code",
   "execution_count": 15,
   "metadata": {
    "collapsed": false
   },
   "outputs": [
    {
     "name": "stdout",
     "output_type": "stream",
     "text": [
      "total 32\n",
      "drwxr-xr-x  4 pellok  staff    136  7 19 13:56 .\n",
      "drwxr-xr-x  4 pellok  staff    136  7 19 12:01 ..\n",
      "drwxr-xr-x  3 pellok  staff    102  7 19 12:10 .ipynb_checkpoints\n",
      "-rw-r--r--  1 pellok  staff  15633  7 19 13:55 base.ipynb\n"
     ]
    }
   ],
   "source": [
    "rmdir linux_command\n",
    "ls -al"
   ]
  },
  {
   "cell_type": "code",
   "execution_count": 20,
   "metadata": {
    "collapsed": false,
    "scrolled": true
   },
   "outputs": [
    {
     "name": "stdout",
     "output_type": "stream",
     "text": [
      "rmdir: linux_command: Directory not empty\n",
      "total 16\n",
      "drwxr-xr-x  5 pellok  staff   170  7 19 14:00 .\n",
      "drwxr-xr-x  4 pellok  staff   136  7 19 12:01 ..\n",
      "drwxr-xr-x  3 pellok  staff   102  7 19 12:10 .ipynb_checkpoints\n",
      "-rw-r--r--  1 pellok  staff  5298  7 19 14:00 base.ipynb\n",
      "drwxr-xr-x  3 pellok  staff   102  7 19 13:59 linux_command\n"
     ]
    }
   ],
   "source": [
    "cd //Users/pellok/github/pellok/linux_command/jupyter\n",
    "rmdir -p linux_command\n",
    "ls -al"
   ]
  },
  {
   "cell_type": "markdown",
   "metadata": {},
   "source": [
    "## touch 創建檔案"
   ]
  },
  {
   "cell_type": "code",
   "execution_count": 21,
   "metadata": {
    "collapsed": false
   },
   "outputs": [
    {
     "name": "stdout",
     "output_type": "stream",
     "text": [
      "total 16\n",
      "drwxr-xr-x  6 pellok  staff   204  7 19 15:09 .\n",
      "drwxr-xr-x  4 pellok  staff   136  7 19 12:01 ..\n",
      "drwxr-xr-x  3 pellok  staff   102  7 19 12:10 .ipynb_checkpoints\n",
      "-rw-r--r--  1 pellok  staff  6722  7 19 14:01 base.ipynb\n",
      "-rw-r--r--  1 pellok  staff     0  7 19 15:09 filename\n",
      "drwxr-xr-x  3 pellok  staff   102  7 19 13:59 linux_command\n"
     ]
    }
   ],
   "source": [
    "touch filename\n",
    "ls -al"
   ]
  },
  {
   "cell_type": "markdown",
   "metadata": {},
   "source": [
    "## rm刪除\n",
    "- -r dir 刪除目錄\n",
    "- -f file 強制刪除檔案\n",
    "- -rf dir 強制刪除目錄(注意很恐怖)"
   ]
  },
  {
   "cell_type": "code",
   "execution_count": 22,
   "metadata": {
    "collapsed": false
   },
   "outputs": [
    {
     "name": "stdout",
     "output_type": "stream",
     "text": [
      "total 16\n",
      "drwxr-xr-x  5 pellok  staff   170  7 19 15:09 .\n",
      "drwxr-xr-x  4 pellok  staff   136  7 19 12:01 ..\n",
      "drwxr-xr-x  3 pellok  staff   102  7 19 12:10 .ipynb_checkpoints\n",
      "-rw-r--r--  1 pellok  staff  6722  7 19 14:01 base.ipynb\n",
      "drwxr-xr-x  3 pellok  staff   102  7 19 13:59 linux_command\n"
     ]
    }
   ],
   "source": [
    "rm filename\n",
    "ls -al"
   ]
  },
  {
   "cell_type": "code",
   "execution_count": 23,
   "metadata": {
    "collapsed": false
   },
   "outputs": [
    {
     "name": "stdout",
     "output_type": "stream",
     "text": [
      "total 24\n",
      "drwxr-xr-x  6 pellok  staff   204  7 19 15:18 .\n",
      "drwxr-xr-x  4 pellok  staff   136  7 19 12:01 ..\n",
      "drwxr-xr-x  3 pellok  staff   102  7 19 12:10 .ipynb_checkpoints\n",
      "-rw-r--r--  1 pellok  staff  9643  7 19 15:13 base.ipynb\n",
      "drwxr-xr-x  3 pellok  staff   102  7 19 13:59 linux_command\n",
      "-rw-r--r--  1 pellok  staff     0  7 19 15:18 test\n"
     ]
    }
   ],
   "source": [
    "touch test\n",
    "ls -al"
   ]
  },
  {
   "cell_type": "code",
   "execution_count": 24,
   "metadata": {
    "collapsed": false
   },
   "outputs": [
    {
     "name": "stdout",
     "output_type": "stream",
     "text": [
      "total 24\n",
      "drwxr-xr-x  5 pellok  staff   170  7 19 15:18 .\n",
      "drwxr-xr-x  4 pellok  staff   136  7 19 12:01 ..\n",
      "drwxr-xr-x  3 pellok  staff   102  7 19 12:10 .ipynb_checkpoints\n",
      "-rw-r--r--  1 pellok  staff  9643  7 19 15:13 base.ipynb\n",
      "drwxr-xr-x  3 pellok  staff   102  7 19 13:59 linux_command\n"
     ]
    }
   ],
   "source": [
    "rm -f test\n",
    "ls -al"
   ]
  },
  {
   "cell_type": "code",
   "execution_count": 31,
   "metadata": {
    "collapsed": false
   },
   "outputs": [
    {
     "name": "stdout",
     "output_type": "stream",
     "text": [
      "total 24\n",
      "drwxr-xr-x  6 pellok  staff    204  7 19 15:21 .\n",
      "drwxr-xr-x  4 pellok  staff    136  7 19 12:01 ..\n",
      "drwxr-xr-x  3 pellok  staff    102  7 19 12:10 .ipynb_checkpoints\n",
      "-rw-r--r--  1 pellok  staff  12172  7 19 15:19 base.ipynb\n",
      "drwxr-xr-x  3 pellok  staff    102  7 19 15:21 folder\n",
      "drwxr-xr-x  3 pellok  staff    102  7 19 13:59 linux_command\n"
     ]
    }
   ],
   "source": [
    "mkdir -p folder/1/2/3/4/5\n",
    "ls -al"
   ]
  },
  {
   "cell_type": "code",
   "execution_count": 32,
   "metadata": {
    "collapsed": false
   },
   "outputs": [
    {
     "name": "stdout",
     "output_type": "stream",
     "text": [
      "total 24\n",
      "drwxr-xr-x  5 pellok  staff    170  7 19 15:21 .\n",
      "drwxr-xr-x  4 pellok  staff    136  7 19 12:01 ..\n",
      "drwxr-xr-x  3 pellok  staff    102  7 19 12:10 .ipynb_checkpoints\n",
      "-rw-r--r--  1 pellok  staff  12172  7 19 15:19 base.ipynb\n",
      "drwxr-xr-x  3 pellok  staff    102  7 19 13:59 linux_command\n"
     ]
    }
   ],
   "source": [
    "rm -r folder\n",
    "ls -al"
   ]
  },
  {
   "cell_type": "code",
   "execution_count": 36,
   "metadata": {
    "collapsed": false
   },
   "outputs": [
    {
     "name": "stdout",
     "output_type": "stream",
     "text": [
      "total 24\n",
      "drwxr-xr-x  6 pellok  staff    204  7 19 15:21 .\n",
      "drwxr-xr-x  4 pellok  staff    136  7 19 12:01 ..\n",
      "drwxr-xr-x  3 pellok  staff    102  7 19 12:10 .ipynb_checkpoints\n",
      "-rw-r--r--  1 pellok  staff  12172  7 19 15:19 base.ipynb\n",
      "drwxr-xr-x  3 pellok  staff    102  7 19 15:21 folder\n",
      "drwxr-xr-x  3 pellok  staff    102  7 19 13:59 linux_command\n"
     ]
    }
   ],
   "source": [
    "mkdir folder\n",
    "touch folder/file\n",
    "ls -al"
   ]
  },
  {
   "cell_type": "code",
   "execution_count": 37,
   "metadata": {
    "collapsed": false
   },
   "outputs": [
    {
     "name": "stdout",
     "output_type": "stream",
     "text": [
      "total 24\n",
      "drwxr-xr-x  5 pellok  staff    170  7 19 15:21 .\n",
      "drwxr-xr-x  4 pellok  staff    136  7 19 12:01 ..\n",
      "drwxr-xr-x  3 pellok  staff    102  7 19 12:10 .ipynb_checkpoints\n",
      "-rw-r--r--  1 pellok  staff  12172  7 19 15:19 base.ipynb\n",
      "drwxr-xr-x  3 pellok  staff    102  7 19 13:59 linux_command\n"
     ]
    }
   ],
   "source": [
    "rm -rf folder\n",
    "ls -al"
   ]
  },
  {
   "cell_type": "markdown",
   "metadata": {},
   "source": [
    "## cp source destination 複製檔案\n",
    "- -r 複製目錄"
   ]
  },
  {
   "cell_type": "code",
   "execution_count": 38,
   "metadata": {
    "collapsed": false
   },
   "outputs": [
    {
     "name": "stdout",
     "output_type": "stream",
     "text": [
      "total 32\n",
      "drwxr-xr-x  7 pellok  staff    238  7 19 15:40 .\n",
      "drwxr-xr-x  4 pellok  staff    136  7 19 12:01 ..\n",
      "drwxr-xr-x  3 pellok  staff    102  7 19 12:10 .ipynb_checkpoints\n",
      "-rw-r--r--  1 pellok  staff  13362  7 19 15:39 base.ipynb\n",
      "-rw-r--r--  1 pellok  staff      0  7 19 15:40 file\n",
      "-rw-r--r--  1 pellok  staff      0  7 19 15:40 file2\n",
      "drwxr-xr-x  3 pellok  staff    102  7 19 13:59 linux_command\n"
     ]
    }
   ],
   "source": [
    "touch file\n",
    "cp file file2\n",
    "ls -al"
   ]
  },
  {
   "cell_type": "code",
   "execution_count": 39,
   "metadata": {
    "collapsed": false
   },
   "outputs": [
    {
     "name": "stdout",
     "output_type": "stream",
     "text": [
      "total 32\n",
      "drwxr-xr-x  9 pellok  staff    306  7 19 15:40 .\n",
      "drwxr-xr-x  4 pellok  staff    136  7 19 12:01 ..\n",
      "drwxr-xr-x  3 pellok  staff    102  7 19 12:10 .ipynb_checkpoints\n",
      "-rw-r--r--  1 pellok  staff  13362  7 19 15:39 base.ipynb\n",
      "-rw-r--r--  1 pellok  staff      0  7 19 15:40 file\n",
      "-rw-r--r--  1 pellok  staff      0  7 19 15:40 file2\n",
      "drwxr-xr-x  2 pellok  staff     68  7 19 15:40 folder\n",
      "drwxr-xr-x  2 pellok  staff     68  7 19 15:40 folder2\n",
      "drwxr-xr-x  3 pellok  staff    102  7 19 13:59 linux_command\n"
     ]
    }
   ],
   "source": [
    "mkdir folder\n",
    "cp -r folder folder2\n",
    "ls -al"
   ]
  },
  {
   "cell_type": "markdown",
   "metadata": {},
   "source": [
    "## ln 連結檔案\n",
    "- -s source_file target_link 創建 file檔案 連結到 link"
   ]
  },
  {
   "cell_type": "code",
   "execution_count": 41,
   "metadata": {
    "collapsed": false
   },
   "outputs": [
    {
     "name": "stdout",
     "output_type": "stream",
     "text": [
      "ln: folder/folder3: File exists\n",
      "total 32\n",
      "drwxr-xr-x  9 pellok  staff    306  7 19 15:41 .\n",
      "drwxr-xr-x  4 pellok  staff    136  7 19 12:01 ..\n",
      "drwxr-xr-x  3 pellok  staff    102  7 19 12:10 .ipynb_checkpoints\n",
      "-rw-r--r--  1 pellok  staff  14732  7 19 15:41 base.ipynb\n",
      "-rw-r--r--  1 pellok  staff      0  7 19 15:40 file\n",
      "-rw-r--r--  1 pellok  staff      0  7 19 15:40 file2\n",
      "drwxr-xr-x  3 pellok  staff    102  7 19 15:42 folder\n",
      "drwxr-xr-x  2 pellok  staff     68  7 19 15:40 folder2\n",
      "drwxr-xr-x  3 pellok  staff    102  7 19 13:59 linux_command\n"
     ]
    }
   ],
   "source": [
    "ln -s folder3 folder\n",
    "ls -al"
   ]
  },
  {
   "cell_type": "markdown",
   "metadata": {},
   "source": [
    "## cat 查看檔案，印出檔案所有資料\n",
    "相近指令：more、less"
   ]
  },
  {
   "cell_type": "code",
   "execution_count": 44,
   "metadata": {
    "collapsed": false
   },
   "outputs": [
    {
     "name": "stdout",
     "output_type": "stream",
     "text": [
      "1234\n"
     ]
    }
   ],
   "source": [
    "echo \"1234\" > text.txt\n",
    "cat text.txt"
   ]
  },
  {
   "cell_type": "markdown",
   "metadata": {},
   "source": [
    "## head 列出前十行\n",
    "- -n 指定行數"
   ]
  },
  {
   "cell_type": "code",
   "execution_count": 45,
   "metadata": {
    "collapsed": false
   },
   "outputs": [
    {
     "name": "stdout",
     "output_type": "stream",
     "text": [
      "1234\n",
      "5678\n"
     ]
    }
   ],
   "source": [
    "echo \"5678\" >> text.txt\n",
    "head text.txt"
   ]
  },
  {
   "cell_type": "code",
   "execution_count": 46,
   "metadata": {
    "collapsed": false
   },
   "outputs": [
    {
     "name": "stdout",
     "output_type": "stream",
     "text": [
      "1234\n"
     ]
    }
   ],
   "source": [
    "head -n 1 text.txt"
   ]
  },
  {
   "cell_type": "markdown",
   "metadata": {},
   "source": [
    "## tail 列出最後端十行\n",
    "- -n 指定行數\n",
    "- -f 一直顯示最後幾行，直到下中斷指令ctrl + c\n"
   ]
  },
  {
   "cell_type": "code",
   "execution_count": 47,
   "metadata": {
    "collapsed": false
   },
   "outputs": [
    {
     "name": "stdout",
     "output_type": "stream",
     "text": [
      "90123\n"
     ]
    }
   ],
   "source": [
    "echo \"90123\" >> text.txt\n",
    "tail -n 1 text.txt"
   ]
  },
  {
   "cell_type": "code",
   "execution_count": null,
   "metadata": {
    "collapsed": false
   },
   "outputs": [
    {
     "name": "stdout",
     "output_type": "stream",
     "text": [
      "5678\n",
      "90123\n"
     ]
    }
   ],
   "source": [
    "tail -2f text.txt"
   ]
  }
 ],
 "metadata": {
  "kernelspec": {
   "display_name": "Bash",
   "language": "bash",
   "name": "bash"
  },
  "language_info": {
   "codemirror_mode": "shell",
   "file_extension": ".sh",
   "mimetype": "text/x-sh",
   "name": "bash"
  }
 },
 "nbformat": 4,
 "nbformat_minor": 2
}
